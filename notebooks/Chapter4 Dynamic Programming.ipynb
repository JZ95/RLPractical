{
 "cells": [
  {
   "cell_type": "markdown",
   "metadata": {},
   "source": [
    "<font size=3> Chapter3 is mainly about the threotical background in MDPs, thus is skipped. Today we will work several examples in textbook on DP."
   ]
  },
  {
   "cell_type": "markdown",
   "metadata": {},
   "source": [
    "# Grid Word Example\n",
    "<font size=4> see textbook page 77 for details."
   ]
  },
  {
   "cell_type": "code",
   "execution_count": 1,
   "metadata": {},
   "outputs": [],
   "source": [
    "from rlp.dynamic_programming.agents import *\n",
    "import matplotlib.pyplot as plt\n",
    "import numpy as np\n",
    "%matplotlib inline"
   ]
  },
  {
   "cell_type": "code",
   "execution_count": 2,
   "metadata": {},
   "outputs": [],
   "source": [
    "from rlp.grid_world import OFFSET"
   ]
  },
  {
   "cell_type": "code",
   "execution_count": 3,
   "metadata": {},
   "outputs": [],
   "source": [
    "def run_dp_solver(rows, cols, terminals, gamma=0.99):\n",
    "    \"\"\"\n",
    "    \"\"\"\n",
    "    solver = DPGridWorldSolver(rows, cols, terminals, gamma)\n",
    "    stats = {}\n",
    "    for k in range(1):\n",
    "        solver.policy_eval()\n",
    "        solver.policy_improve()\n",
    "        values = solver.V\n",
    "        policy = solver.policy\n",
    "    \n",
    "        stats[k] = (values, policy)\n",
    "    \n",
    "    return stats\n",
    "\n",
    "stats = run_dp_solver(5, 5, [(0, 0), (4, 4)])"
   ]
  },
  {
   "cell_type": "code",
   "execution_count": 4,
   "metadata": {},
   "outputs": [
    {
     "data": {
      "image/png": "[encoded data removed]",
      "text/plain": [
       "<Figure size 432x288 with 1 Axes>"
      ]
     },
     "metadata": {
      "needs_background": "light"
     },
     "output_type": "display_data"
    }
   ],
   "source": [
    "def draw_grid_world_value(rows, cols, state_values):\n",
    "    \"\"\" draw value function in the grid world.\n",
    "    Params:\n",
    "    rows - number of rows\n",
    "    cols - number of columns\n",
    "    state_values - dict, value function of each entry in the grid world\n",
    "    \"\"\"\n",
    "    pass\n",
    "\n",
    "def draw_grid_world_policy(rows, cols, policy, mask_cell):\n",
    "    \"\"\" draw value function in the grid world.\n",
    "    Params:\n",
    "    rows - number of rows\n",
    "    cols - number of columns\n",
    "    policy - dict, distribution of directions at each entry in the grid world\n",
    "    \"\"\"\n",
    "    plt.subplot(aspect='equal')\n",
    "    plt.gca().invert_yaxis()\n",
    "\n",
    "    x = [-0.5 + i for i in range(rows + 1)]\n",
    "    y = [-0.5 + i for i in range(cols + 1)]\n",
    "    plt.xticks(x)\n",
    "    plt.yticks(y)\n",
    "    plt.grid(which='major', axis='both', linestyle='-', color='k', linewidth=1)\n",
    "    for cell in policy:\n",
    "        if cell in mask_cell:\n",
    "            continue\n",
    "        y, x = cell\n",
    "        for action, prob in enumerate(policy[cell]):\n",
    "            if prob != 0:\n",
    "                dy, dx = OFFSET[action]\n",
    "                plt.arrow(x, y, 0.25 * dx, 0.25 * dy, head_width=0.05)\n",
    "\n",
    "draw_grid_world_policy(5, 5, stats[0][1], mask_cell=[(0, 0), (4, 4)])"
   ]
  }
 ],
 "metadata": {
  "kernelspec": {
   "display_name": "Python 3",
   "language": "python",
   "name": "python3"
  },
  "language_info": {
   "codemirror_mode": {
    "name": "ipython",
    "version": 3
   },
   "file_extension": ".py",
   "mimetype": "text/x-python",
   "name": "python",
   "nbconvert_exporter": "python",
   "pygments_lexer": "ipython3",
   "version": "3.5.0"
  }
 },
 "nbformat": 4,
 "nbformat_minor": 2
}
