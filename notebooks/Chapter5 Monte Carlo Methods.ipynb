{
 "cells": [
  {
   "cell_type": "markdown",
   "metadata": {},
   "source": [
    "<font size=4> We demonstrate some examples using monte carlo methods to update the policy and \n",
    "feel free to implement your own agent by modifiying the source code we import below."
   ]
  },
  {
   "cell_type": "code",
   "execution_count": 1,
   "metadata": {},
   "outputs": [],
   "source": [
    "from rlp.monte_carlo.base import BlackJackEnv, BlackJackEnvES, NaiveBlackJackAgent, AdvancedBlackJackAgent\n",
    "from rlp.monte_carlo.base import IN_PROGRESS, TERMINAL, DECK"
   ]
  },
  {
   "cell_type": "code",
   "execution_count": 2,
   "metadata": {},
   "outputs": [],
   "source": [
    "import numpy as np\n",
    "import matplotlib.pyplot as plt\n",
    "from mpl_toolkits.mplot3d import Axes3D\n",
    "%matplotlib notebook"
   ]
  },
  {
   "cell_type": "markdown",
   "metadata": {},
   "source": [
    "# Monte Carlo Policy Evaluation\n",
    "<font size=4> An experiment here would be run accroding to the description on textbook page 93, i.e. the [Black Jack](https://en.wikipedia.org/wiki/Blackjack) Problem. We are going to try to reproduce the example of **First-visit MC prediction**, for estimating $V \\approx v_{\\pi}$."
   ]
  },
  {
   "cell_type": "code",
   "execution_count": 3,
   "metadata": {},
   "outputs": [],
   "source": [
    "def parse_state_value(V):\n",
    "    \"\"\"parse state value from the give agent.\n",
    "    \"\"\"\n",
    "    ret = {}\n",
    "    for k in range(2):\n",
    "        ret[k] = np.zeros((10, 10))\n",
    "        for i in range(10):\n",
    "            for j in range(10):\n",
    "                usable_ace = k\n",
    "                palyer_sum = i + 12\n",
    "                dealer_show = DECK[j]\n",
    "                ret[k][i][j] = V[(usable_ace, palyer_sum, dealer_show)]\n",
    "    return ret\n",
    "\n",
    "def draw_values(stats):\n",
    "    \"\"\" draw state values like Figure 5.1 on textbook based on stats.\n",
    "    \"\"\"\n",
    "    fig = plt.figure(figsize=(8, 4))\n",
    "    for k in range(2):\n",
    "        ax = fig.add_subplot(1, 2, k + 1, projection='3d')\n",
    "        Z = stats[k]\n",
    "        X, Y = np.meshgrid(np.arange(10), np.arange(10))\n",
    "        ax.plot_surface(X, Y, Z, vmin=-1, vmax=1)\n",
    "        ax.set_yticks(np.arange(10))\n",
    "        ax.set_yticklabels(np.arange(10) + 12)\n",
    "        ax.set_ylabel('player sum')\n",
    "        \n",
    "        ax.set_xticks(np.arange(10))\n",
    "        ax.set_xticklabels(DECK)\n",
    "        ax.set_xlabel('dealer show')\n",
    "\n",
    "        ax.set_zlabel('v')\n",
    "        title = 'no usable ace'if k == 0 else 'usable ace'\n",
    "        ax.set_title(title)"
   ]
  },
  {
   "cell_type": "code",
   "execution_count": 4,
   "metadata": {},
   "outputs": [],
   "source": [
    "def run_monte_carlo_pred(n_eposides=10000):\n",
    "    \"\"\" Run experiment n_eposides times\n",
    "    \"\"\"\n",
    "    # Naive Agent, sticks when the current sum is 20 or 21 otherwise hits\n",
    "    agent = NaiveBlackJackAgent(discountRatio=0.99)   # u can tune the discount ratio here\n",
    "    env = BlackJackEnv()\n",
    "\n",
    "    for episode in range(n_eposides):\n",
    "        state = env.reset()\n",
    "        agent.reset()\n",
    "        status = IN_PROGRESS\n",
    "        while status != TERMINAL:\n",
    "            agent.set_state(state)\n",
    "            action = agent.action()\n",
    "            reward, state, status = env.react(state, action)\n",
    "            agent.set_experience(reward, state)\n",
    "        agent.update()                                # agent upate after each episode is finished\n",
    "\n",
    "    return agent.V                                    # return the state value\n",
    "\n",
    "# run exp 10,000 times and 50,000 times\n",
    "# stats_10K = run_monte_carlo_pred(10000)\n",
    "# stats_50K = run_monte_carlo_pred(50000)"
   ]
  },
  {
   "cell_type": "code",
   "execution_count": 5,
   "metadata": {},
   "outputs": [
    {
     "ename": "NameError",
     "evalue": "name 'stats_10K' is not defined",
     "output_type": "error",
     "traceback": [
      "\u001b[0;31m---------------------------------------------------------------------------\u001b[0m",
      "\u001b[0;31mNameError\u001b[0m                                 Traceback (most recent call last)",
      "\u001b[0;32m<ipython-input-5-260879031400>\u001b[0m in \u001b[0;36m<module>\u001b[0;34m()\u001b[0m\n\u001b[0;32m----> 1\u001b[0;31m \u001b[0mdraw_values\u001b[0m\u001b[0;34m(\u001b[0m\u001b[0mparse_state_value\u001b[0m\u001b[0;34m(\u001b[0m\u001b[0mstats_10K\u001b[0m\u001b[0;34m)\u001b[0m\u001b[0;34m)\u001b[0m\u001b[0;34m\u001b[0m\u001b[0m\n\u001b[0m",
      "\u001b[0;31mNameError\u001b[0m: name 'stats_10K' is not defined"
     ]
    }
   ],
   "source": [
    "draw_values(parse_state_value(stats_10K))"
   ]
  },
  {
   "cell_type": "markdown",
   "metadata": {},
   "source": [
    "<font size=4> state values are more smooth when runing 50,000 episodes"
   ]
  },
  {
   "cell_type": "code",
   "execution_count": null,
   "metadata": {},
   "outputs": [],
   "source": [
    "draw_values(parse_state_value(stats_50K))"
   ]
  },
  {
   "cell_type": "markdown",
   "metadata": {},
   "source": [
    "# Monte Carlo Control\n",
    "<font size=4> Here we apply **Monte Carlo ES (Exploring Starts)** to the **BlackJack Problem**. NOTE: in order to implement ES, all initial state-action pairs are produced by a uniform distribution. More precisely, the action at timestep 0 comes from a uniform distribution $p(A_0=a|S_0=s)$, even though our policy $\\pi(a|s)$ is not a uniform one."
   ]
  },
  {
   "cell_type": "code",
   "execution_count": 6,
   "metadata": {},
   "outputs": [],
   "source": [
    "def parse_policy(policy):\n",
    "    \"\"\" parse the policy of agent\n",
    "    \"\"\"\n",
    "    stats = {}\n",
    "    def get_non_zero_key(d):\n",
    "        return [k for k, v in d.items() if v != 0]\n",
    "        \n",
    "    for k in range(2):\n",
    "        stats[k] = np.zeros((10, 10))\n",
    "        for i in range(10):\n",
    "            for j in range(10):\n",
    "                usable_ace = k\n",
    "                palyer_sum = i + 12\n",
    "                dealer_show = DECK[j]\n",
    "                stats[k][i][j] = get_non_zero_key(policy[(usable_ace, palyer_sum, dealer_show)])[0]\n",
    "    return stats"
   ]
  },
  {
   "cell_type": "code",
   "execution_count": 7,
   "metadata": {},
   "outputs": [],
   "source": [
    "def draw_policy(stats):\n",
    "    \"\"\" plot result\n",
    "    \"\"\"\n",
    "    %matplotlib inline\n",
    "    _, ax = plt.subplots(ncols=2, nrows=1, figsize=(12, 12), sharey=True)\n",
    "    ax = ax.ravel()\n",
    "    for i in range(2):\n",
    "        ax[i].imshow(stats[i])\n",
    "        ax[i].invert_yaxis()\n",
    "        \n",
    "        ax[i].set_yticks(range(10))\n",
    "        ax[i].set_yticklabels(np.arange(10) + 12)\n",
    "        if i == 0:\n",
    "            ax[i].set_ylabel('player sum')\n",
    "\n",
    "        ax[i].set_xticks(range(10))\n",
    "        ax[i].set_xticklabels(DECK)\n",
    "        ax[i].set_xlabel('dealer show')\n",
    "        \n",
    "        ax[i].grid()\n",
    "        title = 'usable_ace' if i else 'no usable_ace'\n",
    "        ax[i].set_title(title)\n",
    "        \n",
    "\n",
    "    plt.show()"
   ]
  },
  {
   "cell_type": "code",
   "execution_count": 10,
   "metadata": {},
   "outputs": [],
   "source": [
    "agent = AdvancedBlackJackAgent(discountRatio=1)\n",
    "env = BlackJackEnvES()\n",
    "\n",
    "for episode in range(100000):\n",
    "    state = env.reset()\n",
    "    agent.reset()\n",
    "    status = IN_PROGRESS\n",
    "    while status != TERMINAL:\n",
    "        agent.set_state(state)\n",
    "        action = agent.action()\n",
    "        reward, state, status = env.react(state, action)\n",
    "        agent.set_experience(reward, state)\n",
    "    agent.update()"
   ]
  },
  {
   "cell_type": "code",
   "execution_count": 11,
   "metadata": {
    "scrolled": false
   },
   "outputs": [
    {
     "data": {
      "image/png": "[encoded data removed]",
      "text/plain": [
       "<Figure size 864x864 with 2 Axes>"
      ]
     },
     "metadata": {
      "needs_background": "light"
     },
     "output_type": "display_data"
    }
   ],
   "source": [
    "stats = parse_policy(agent.policy)\n",
    "draw_policy(stats)"
   ]
  }
 ],
 "metadata": {
  "kernelspec": {
   "display_name": "Python 3",
   "language": "python",
   "name": "python3"
  },
  "language_info": {
   "codemirror_mode": {
    "name": "ipython",
    "version": 3
   },
   "file_extension": ".py",
   "mimetype": "text/x-python",
   "name": "python",
   "nbconvert_exporter": "python",
   "pygments_lexer": "ipython3",
   "version": "3.5.0"
  }
 },
 "nbformat": 4,
 "nbformat_minor": 2
}
